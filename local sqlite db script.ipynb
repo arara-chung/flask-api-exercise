{
 "cells": [
  {
   "cell_type": "code",
   "execution_count": 1,
   "metadata": {
    "collapsed": true
   },
   "outputs": [],
   "source": [
    "from sqlalchemy import Column, Integer, String\n",
    "from sqlalchemy.ext.declarative import declarative_base\n",
    "from sqlalchemy import create_engine\n",
    "from passlib.apps import custom_app_context as pwd_context\n",
    "\n",
    "Base = declarative_base()\n",
    "class User(Base):\n",
    "\n",
    "    # define tables\n",
    "    __tablename__ = 'user'\n",
    "\n",
    "    # define columns\n",
    "    id = Column(Integer, primary_key=True)\n",
    "    username = Column(String(32), index=True)\n",
    "    password_hash = Column(String(64))\n",
    "\n",
    "    # define query response: equivalent to getter setter\n",
    "    @property\n",
    "    def serialize(self):\n",
    "        \"\"\"Return object data in easily serializeable format\"\"\"\n",
    "        return {\n",
    "            'id': self.id,\n",
    "            'username': self.username\n",
    "        }\n",
    "\n",
    "    def hash_password(self, password):\n",
    "        self.password_hash = pwd_context.hash(password)\n",
    "\n",
    "    def verify_password(self, password):\n",
    "        return pwd_context.verify(password, self.password_hash)\n",
    "\n",
    "engine = create_engine('sqlite:///users.db')\n",
    "Base.metadata.create_all(engine)"
   ]
  },
  {
   "cell_type": "code",
   "execution_count": 2,
   "metadata": {
    "collapsed": true
   },
   "outputs": [],
   "source": [
    "from sqlalchemy.orm import sessionmaker\n",
    "\n",
    "user_engine = create_engine('sqlite:///users.db')\n",
    "Base.metadata.bind = user_engine\n",
    "user_DBSession = sessionmaker(bind=user_engine)\n",
    "user_session = user_DBSession()"
   ]
  },
  {
   "cell_type": "code",
   "execution_count": 3,
   "metadata": {
    "collapsed": false
   },
   "outputs": [
    {
     "name": "stderr",
     "output_type": "stream",
     "text": [
      "C:\\Users\\ray\\Anaconda3\\envs\\flask\\lib\\site-packages\\ipykernel\\__main__.py:28: DeprecationWarning: the method passlib.context.CryptContext.encrypt() is deprecated as of Passlib 1.7, and will be removed in Passlib 2.0, use CryptContext.hash() instead.\n"
     ]
    }
   ],
   "source": [
    "for i in range(5):\n",
    "    username = 'ray' + str(i+1)\n",
    "    password = 'pass'\n",
    "    user = User(username = username)\n",
    "    user.hash_password(password)\n",
    "    user_session.add(user)\n",
    "    user_session.commit()\n",
    "    \n",
    "user_session.close()"
   ]
  },
  {
   "cell_type": "code",
   "execution_count": 4,
   "metadata": {
    "collapsed": true
   },
   "outputs": [],
   "source": []
  },
  {
   "cell_type": "code",
   "execution_count": null,
   "metadata": {
    "collapsed": true
   },
   "outputs": [],
   "source": []
  }
 ],
 "metadata": {
  "anaconda-cloud": {},
  "kernelspec": {
   "display_name": "Python [default]",
   "language": "python",
   "name": "python3"
  },
  "language_info": {
   "codemirror_mode": {
    "name": "ipython",
    "version": 3
   },
   "file_extension": ".py",
   "mimetype": "text/x-python",
   "name": "python",
   "nbconvert_exporter": "python",
   "pygments_lexer": "ipython3",
   "version": "3.5.2"
  }
 },
 "nbformat": 4,
 "nbformat_minor": 1
}
